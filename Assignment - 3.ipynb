{
 "cells": [
  {
   "cell_type": "markdown",
   "metadata": {},
   "source": [
    "# Sum of N natural numbers"
   ]
  },
  {
   "cell_type": "code",
   "execution_count": 6,
   "metadata": {},
   "outputs": [
    {
     "name": "stdout",
     "output_type": "stream",
     "text": [
      "Enter the Range ending :\n",
      "10\n",
      "\n",
      "The sum of 10 numbers is 55\n"
     ]
    }
   ],
   "source": [
    "a=input(\"Enter the Range ending :\\n\")\n",
    "b=int(a)\n",
    "c=0\n",
    "while b>=0:\n",
    "\tc+=b\n",
    "\tb-=1\n",
    "print(\"\\nThe sum of %d numbers is %d\" %(int(a),c))"
   ]
  },
  {
   "cell_type": "code",
   "execution_count": 7,
   "metadata": {},
   "outputs": [
    {
     "name": "stdout",
     "output_type": "stream",
     "text": [
      "Enter the Range ending :\n",
      "100\n",
      "\n",
      "The sum of 100 numbers is 5050\n"
     ]
    }
   ],
   "source": [
    "a=input(\"Enter the Range ending :\\n\")\n",
    "b=int(a)\n",
    "c=0\n",
    "while b>=0:\n",
    "\tc+=b\n",
    "\tb-=1\n",
    "print(\"\\nThe sum of %d numbers is %d\" %(int(a),c))"
   ]
  },
  {
   "cell_type": "code",
   "execution_count": null,
   "metadata": {},
   "outputs": [],
   "source": []
  },
  {
   "cell_type": "markdown",
   "metadata": {},
   "source": [
    "# Prime number or not"
   ]
  },
  {
   "cell_type": "code",
   "execution_count": 14,
   "metadata": {},
   "outputs": [
    {
     "name": "stdout",
     "output_type": "stream",
     "text": [
      "Enter the Number :\n",
      "5\n",
      "5 is a prime number\n"
     ]
    }
   ],
   "source": [
    "a=int(input(\"Enter the Number :\\n\"))\n",
    "if (a>1):\n",
    "    for i in range(2,a):\n",
    "        if (a%i)==0:\n",
    "            print(\"%d is not a prime number\" %(a))\n",
    "            break\n",
    "    else :\n",
    "            print(\"%d is a prime number\" %(a))\n",
    "else :\n",
    "    print(\"%d is a prime number\" %(a))"
   ]
  },
  {
   "cell_type": "code",
   "execution_count": 15,
   "metadata": {},
   "outputs": [
    {
     "name": "stdout",
     "output_type": "stream",
     "text": [
      "Enter the Number :\n",
      "9\n",
      "9 is not a prime number\n"
     ]
    }
   ],
   "source": [
    "a=int(input(\"Enter the Number :\\n\"))\n",
    "if (a>1):\n",
    "    for i in range(2,a):\n",
    "        if (a%i)==0:\n",
    "            print(\"%d is not a prime number\" %(a))\n",
    "            break\n",
    "    else :\n",
    "            print(\"%d is a prime number\" %(a))\n",
    "else :\n",
    "    print(\"%d is a prime number\" %(a))"
   ]
  },
  {
   "cell_type": "code",
   "execution_count": null,
   "metadata": {},
   "outputs": [],
   "source": []
  }
 ],
 "metadata": {
  "kernelspec": {
   "display_name": "Python 3",
   "language": "python",
   "name": "python3"
  },
  "language_info": {
   "codemirror_mode": {
    "name": "ipython",
    "version": 3
   },
   "file_extension": ".py",
   "mimetype": "text/x-python",
   "name": "python",
   "nbconvert_exporter": "python",
   "pygments_lexer": "ipython3",
   "version": "3.7.6"
  }
 },
 "nbformat": 4,
 "nbformat_minor": 4
}
